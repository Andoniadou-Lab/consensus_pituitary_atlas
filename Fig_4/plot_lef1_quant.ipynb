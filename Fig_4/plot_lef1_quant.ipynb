{
 "cells": [
  {
   "cell_type": "code",
   "execution_count": 3,
   "id": "098d5fc2",
   "metadata": {},
   "outputs": [],
   "source": [
    "import pandas as pd\n",
    "import seaborn as sns\n",
    "import matplotlib.pyplot as plt"
   ]
  },
  {
   "cell_type": "code",
   "execution_count": 5,
   "id": "92500436",
   "metadata": {},
   "outputs": [
    {
     "name": "stderr",
     "output_type": "stream",
     "text": [
      "/var/folders/g6/4flmdffs7l35hmmt1wkgrfcm0000gr/T/ipykernel_78201/960205004.py:20: FutureWarning: \n",
      "\n",
      "Setting a gradient palette using color= is deprecated and will be removed in v0.14.0. Set `palette='dark:.2'` for the same effect.\n",
      "\n",
      "  sns.stripplot(x='stage', y='percentage', hue='location', data=data,\n"
     ]
    },
    {
     "data": {
      "image/png": "[encoded data removed]",
      "text/plain": [
       "<Figure size 350x350 with 1 Axes>"
      ]
     },
     "metadata": {},
     "output_type": "display_data"
    }
   ],
   "source": [
    "#load /Users/k23030440/Library/CloudStorage/OneDrive-King\\'sCollegeLondon/PhD/Year_two/Aim\\ 1/thea_images_and_quant/percentage_quantifications_lef1_sox2_over_sox2.xlsx\n",
    "data = pd.read_excel(\"/Users/k23030440/Library/CloudStorage/OneDrive-King'sCollegeLondon/PhD/Year_two/Aim 1/thea_images_and_quant/percentage_quantifications_lef1_sox2_over_sox2.xlsx\",header=None)\n",
    "#rename cols 0,1,2 to stage, location, percentage\n",
    "data.columns = ['stage', 'location', 'percentage',\"sample\"]\n",
    "#in percentage turn , to . and then float\n",
    "data['percentage'] = data['percentage'].str.replace(',', '.').astype(float) \n",
    "\n",
    "#change nan to 0\n",
    "data['percentage'] = data['percentage'].fillna(0)\n",
    "\n",
    "\n",
    "sns.set_style(\"whitegrid\")\n",
    "fig, ax = plt.subplots(figsize=(3.5, 3.5))\n",
    "\n",
    "# Plot the boxplot without outliers\n",
    "sns.boxplot(x='stage', y='percentage', hue='location', data=data, \n",
    "            palette='viridis', ax=ax, showfliers=False)\n",
    "\n",
    "# Plot the stripplot on top to show all observations\n",
    "sns.stripplot(x='stage', y='percentage', hue='location', data=data, \n",
    "              jitter=0.2, dodge=True, color=\".2\", ax=ax, legend=False)\n",
    "\n",
    "#x label to be LEF1+SOX2+\\n/SOX2+(%)\n",
    "ax.set_ylabel('LEF1+SOX2+\\n/SOX2+(%)')\n",
    "ax.set_xlabel('Age')\n",
    "\n",
    "plt.title('')\n",
    "plt.tight_layout()\n",
    "\n",
    "\n",
    "plt.savefig(\"/Users/k23030440/Library/CloudStorage/OneDrive-King'sCollegeLondon/PhD/Year_two/Aim 1/lef1_sox2_quantification.svg\")\n",
    "plt.savefig(\"/Users/k23030440/Library/CloudStorage/OneDrive-King'sCollegeLondon/PhD/Year_two/Aim 1/lef1_sox2_quantification.png\")\n",
    "\n",
    "plt.show()\n"
   ]
  },
  {
   "cell_type": "code",
   "execution_count": 6,
   "id": "0cb1b1ad",
   "metadata": {},
   "outputs": [
    {
     "data": {
      "text/html": [
       "<div>\n",
       "<style scoped>\n",
       "    .dataframe tbody tr th:only-of-type {\n",
       "        vertical-align: middle;\n",
       "    }\n",
       "\n",
       "    .dataframe tbody tr th {\n",
       "        vertical-align: top;\n",
       "    }\n",
       "\n",
       "    .dataframe thead th {\n",
       "        text-align: right;\n",
       "    }\n",
       "</style>\n",
       "<table border=\"1\" class=\"dataframe\">\n",
       "  <thead>\n",
       "    <tr style=\"text-align: right;\">\n",
       "      <th></th>\n",
       "      <th>stage</th>\n",
       "      <th>location</th>\n",
       "      <th>percentage</th>\n",
       "      <th>sample</th>\n",
       "    </tr>\n",
       "  </thead>\n",
       "  <tbody>\n",
       "    <tr>\n",
       "      <th>0</th>\n",
       "      <td>P3</td>\n",
       "      <td>MZ</td>\n",
       "      <td>12.01</td>\n",
       "      <td>1</td>\n",
       "    </tr>\n",
       "    <tr>\n",
       "      <th>1</th>\n",
       "      <td>P3</td>\n",
       "      <td>MZ</td>\n",
       "      <td>5.42</td>\n",
       "      <td>2</td>\n",
       "    </tr>\n",
       "    <tr>\n",
       "      <th>2</th>\n",
       "      <td>P3</td>\n",
       "      <td>MZ</td>\n",
       "      <td>13.38</td>\n",
       "      <td>3</td>\n",
       "    </tr>\n",
       "    <tr>\n",
       "      <th>3</th>\n",
       "      <td>P3</td>\n",
       "      <td>MZ</td>\n",
       "      <td>4.46</td>\n",
       "      <td>4</td>\n",
       "    </tr>\n",
       "    <tr>\n",
       "      <th>4</th>\n",
       "      <td>P3</td>\n",
       "      <td>MZ</td>\n",
       "      <td>5.11</td>\n",
       "      <td>5</td>\n",
       "    </tr>\n",
       "  </tbody>\n",
       "</table>\n",
       "</div>"
      ],
      "text/plain": [
       "  stage location  percentage  sample\n",
       "0    P3       MZ       12.01       1\n",
       "1    P3       MZ        5.42       2\n",
       "2    P3       MZ       13.38       3\n",
       "3    P3       MZ        4.46       4\n",
       "4    P3       MZ        5.11       5"
      ]
     },
     "execution_count": 6,
     "metadata": {},
     "output_type": "execute_result"
    }
   ],
   "source": [
    "data.head()"
   ]
  },
  {
   "cell_type": "code",
   "execution_count": 9,
   "id": "c842f1ee",
   "metadata": {},
   "outputs": [
    {
     "name": "stdout",
     "output_type": "stream",
     "text": [
      "TtestResult(statistic=5.443882951760406, pvalue=0.002839931670669092, df=5)\n",
      "TtestResult(statistic=1.8192905746333423, pvalue=0.11168457351112057, df=7)\n"
     ]
    }
   ],
   "source": [
    "p3_p = data[(data['stage'] == 'P3') & (data['location'] == 'P')]\n",
    "p3_mz = data[(data['stage'] == 'P3') & (data['location'] == 'MZ')]\n",
    "#paired t-test between p3_p and p3_mz\n",
    "from scipy.stats import ttest_rel\n",
    "print(ttest_rel(p3_p['percentage'], p3_mz['percentage']))\n",
    "\n",
    "\n",
    "p15_p = data[(data['stage'] == 'P15') & (data['location'] == 'P')]\n",
    "p15_mz = data[(data['stage'] == 'P15') & (data['location'] == 'MZ')]\n",
    "#paired t-test between p15_p and p15_mz\n",
    "from scipy.stats import ttest_rel\n",
    "print(ttest_rel(p15_p['percentage'], p15_mz['percentage']))"
   ]
  },
  {
   "cell_type": "code",
   "execution_count": 10,
   "id": "b980c51e",
   "metadata": {},
   "outputs": [
    {
     "name": "stdout",
     "output_type": "stream",
     "text": [
      "TtestResult(statistic=14.601725735313828, pvalue=1.512357017960752e-08, df=11.0)\n",
      "TtestResult(statistic=5.739329264700821, pvalue=0.00013040235787188954, df=11.0)\n"
     ]
    }
   ],
   "source": [
    "#compare p3_p to p56_p\n",
    "p56_p = data[(data['stage'] == 'P56') & (data['location'] == 'P')]\n",
    "from scipy.stats import ttest_ind\n",
    "print(ttest_ind(p3_p['percentage'], p56_p['percentage']))\n",
    "\n",
    "\n",
    "#compare p3_mz to p56_mz\n",
    "p56_mz = data[(data['stage'] == 'P56') & (data['location'] == 'MZ')]\n",
    "from scipy.stats import ttest_ind\n",
    "print(ttest_ind(p3_mz['percentage'], p56_mz['percentage']))"
   ]
  },
  {
   "cell_type": "code",
   "execution_count": null,
   "id": "bf953328",
   "metadata": {},
   "outputs": [],
   "source": []
  }
 ],
 "metadata": {
  "kernelspec": {
   "display_name": "base",
   "language": "python",
   "name": "python3"
  },
  "language_info": {
   "codemirror_mode": {
    "name": "ipython",
    "version": 3
   },
   "file_extension": ".py",
   "mimetype": "text/x-python",
   "name": "python",
   "nbconvert_exporter": "python",
   "pygments_lexer": "ipython3",
   "version": "3.12.4"
  }
 },
 "nbformat": 4,
 "nbformat_minor": 5
}
